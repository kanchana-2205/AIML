{
  "nbformat": 4,
  "nbformat_minor": 0,
  "metadata": {
    "colab": {
      "provenance": [],
      "authorship_tag": "ABX9TyPl/ZhKL4xJSemGRhkiTuRt",
      "include_colab_link": true
    },
    "kernelspec": {
      "name": "python3",
      "display_name": "Python 3"
    },
    "language_info": {
      "name": "python"
    }
  },
  "cells": [
    {
      "cell_type": "markdown",
      "metadata": {
        "id": "view-in-github",
        "colab_type": "text"
      },
      "source": [
        "<a href=\"https://colab.research.google.com/github/kanchana-2205/AIML/blob/main/Numpy_Exercise.ipynb\" target=\"_parent\"><img src=\"https://colab.research.google.com/assets/colab-badge.svg\" alt=\"Open In Colab\"/></a>"
      ]
    },
    {
      "cell_type": "markdown",
      "source": [
        "**NumPy is a Python library.**\n",
        "\n",
        "1.   NumPy is used for working with arrays.\n",
        "2.   NumPy is short for \"Numerical Python\".\n",
        "\n",
        "3.  Numpy is a library for performing more functionalities in array, much faster than python list\n"
      ],
      "metadata": {
        "id": "Qb3sH58DAsNn"
      }
    },
    {
      "cell_type": "code",
      "source": [
        "# string format example using 'f' and /format function\n",
        "\n",
        "age = 33\n",
        "name = \"MK\"\n",
        "\n",
        "print(\"My name is \" + name + \" and age is \" + str(age))\n",
        "\n",
        "print(f\"My name is {name} and age is {age}\")   #f format string example\n",
        "\n",
        "print(\"My name is {} and age is {}\".format(name,age))\n",
        "print(\"My name is {d1} and age is {d2} \\n{d1}{d1}\".format(d1=name,d2=age))\n"
      ],
      "metadata": {
        "colab": {
          "base_uri": "https://localhost:8080/"
        },
        "id": "GvITm9MBeMn8",
        "outputId": "dda41211-1e9f-41c2-98d9-e19ceb257bb4"
      },
      "execution_count": null,
      "outputs": [
        {
          "output_type": "stream",
          "name": "stdout",
          "text": [
            "My name is MK and age is 33\n",
            "My name is MK and age is 33\n",
            "My name is MK and age is 33\n",
            "My name is MK and age is 33 \n",
            "MKMK\n"
          ]
        }
      ]
    },
    {
      "cell_type": "markdown",
      "source": [
        "**NumPy is a Python library.**\n",
        "\n",
        "1.   NumPy is used for working with arrays.\n",
        "2.   NumPy is short for \"Numerical Python\".\n",
        "\n",
        "3.  Numpy is a library for performing more functionalities in array, much faster than python list\n"
      ],
      "metadata": {
        "id": "hg703d1hg3rh"
      }
    },
    {
      "cell_type": "code",
      "execution_count": null,
      "metadata": {
        "colab": {
          "base_uri": "https://localhost:8080/"
        },
        "id": "puFT5MmcADPg",
        "outputId": "3054f18f-e1b7-4e10-89fa-e9e39410cb17"
      },
      "outputs": [
        {
          "output_type": "stream",
          "name": "stdout",
          "text": [
            "1.26.4\n",
            "Type of arr [1 2 3 4 5] is <class 'numpy.ndarray'>\n",
            "Element type of [1 2 3 4 5] is <class 'numpy.dtypes.Int64DType'>\n",
            "<class 'numpy.ndarray'>\n",
            "<class 'numpy.dtypes.StrDType'>\n"
          ]
        }
      ],
      "source": [
        "# Importing numpy with alias naming\n",
        "import numpy as np\n",
        "print(np.__version__) #to check the version of numpy\n",
        "\n",
        "arr = np.array([1, 2, 3, 4, 5]) # creates array of integers\n",
        "arr1 = np.array([\"a\", \"b\", \"c\", \"d\", \"e\"]) # creates array of strings\n",
        "print(f\"Type of arr {arr} is {type(arr)}\")      # to check the array type\n",
        "print(f\"Element type of {arr} is {type(arr.dtype)}\") # to check the array element type\n",
        "print(type(arr1))\n",
        "print(type(arr1.dtype))"
      ]
    },
    {
      "cell_type": "code",
      "source": [
        "\n"
      ],
      "metadata": {
        "colab": {
          "base_uri": "https://localhost:8080/"
        },
        "id": "q9EURqrhBHLW",
        "outputId": "2cdeacaa-5c32-4083-9930-62998a6b54bb"
      },
      "execution_count": null,
      "outputs": [
        {
          "output_type": "stream",
          "name": "stdout",
          "text": [
            "<class 'numpy.ndarray'>\n",
            "<class 'numpy.dtypes.Int64DType'>\n",
            "<class 'numpy.ndarray'>\n",
            "<class 'numpy.dtypes.StrDType'>\n"
          ]
        }
      ]
    },
    {
      "cell_type": "code",
      "source": [],
      "metadata": {
        "id": "YrQr15L1AZwA"
      },
      "execution_count": null,
      "outputs": []
    }
  ]
}